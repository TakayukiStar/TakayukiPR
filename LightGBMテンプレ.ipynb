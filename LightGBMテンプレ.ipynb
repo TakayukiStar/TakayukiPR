{
 "cells": [
  {
   "cell_type": "markdown",
   "metadata": {},
   "source": [
    "# 主要データサイエンスモデルのLightGBMをテンプレ化する\n",
    "これにより、大幅な業務の効率化を推進できる"
   ]
  },
  {
   "cell_type": "markdown",
   "metadata": {},
   "source": [
    "## 分析準備\n",
    "使用するライブラリとデータの読み込みをする"
   ]
  },
  {
   "cell_type": "code",
   "execution_count": 73,
   "metadata": {},
   "outputs": [],
   "source": [
    "import warnings\n",
    "warnings.simplefilter('ignore')\n",
    "# 使用ライブラリのインポート\n",
    "import numpy as np\n",
    "import pandas as pd\n",
    "import matplotlib.pyplot as plt\n",
    "import seaborn as sns"
   ]
  },
  {
   "cell_type": "code",
   "execution_count": 74,
   "metadata": {},
   "outputs": [],
   "source": [
    "# データの読み込み(著名なタイタニックデータ)\n",
    "train = pd.read_csv(r'C:\\Users\\t-oka\\OneDrive\\ドキュメント\\titanic_train.csv')\n",
    "test = pd.read_csv(r'C:\\Users\\t-oka\\OneDrive\\ドキュメント\\titanic_test.csv')"
   ]
  },
  {
   "cell_type": "code",
   "execution_count": 75,
   "metadata": {},
   "outputs": [
    {
     "data": {
      "text/html": [
       "<div>\n",
       "<style scoped>\n",
       "    .dataframe tbody tr th:only-of-type {\n",
       "        vertical-align: middle;\n",
       "    }\n",
       "\n",
       "    .dataframe tbody tr th {\n",
       "        vertical-align: top;\n",
       "    }\n",
       "\n",
       "    .dataframe thead th {\n",
       "        text-align: right;\n",
       "    }\n",
       "</style>\n",
       "<table border=\"1\" class=\"dataframe\">\n",
       "  <thead>\n",
       "    <tr style=\"text-align: right;\">\n",
       "      <th></th>\n",
       "      <th>PassengerId</th>\n",
       "      <th>Survived</th>\n",
       "      <th>Pclass</th>\n",
       "      <th>Name</th>\n",
       "      <th>Sex</th>\n",
       "      <th>Age</th>\n",
       "      <th>SibSp</th>\n",
       "      <th>Parch</th>\n",
       "      <th>Ticket</th>\n",
       "      <th>Fare</th>\n",
       "      <th>Cabin</th>\n",
       "      <th>Embarked</th>\n",
       "    </tr>\n",
       "  </thead>\n",
       "  <tbody>\n",
       "    <tr>\n",
       "      <th>0</th>\n",
       "      <td>1</td>\n",
       "      <td>0</td>\n",
       "      <td>3</td>\n",
       "      <td>Braund, Mr. Owen Harris</td>\n",
       "      <td>male</td>\n",
       "      <td>22.0</td>\n",
       "      <td>1</td>\n",
       "      <td>0</td>\n",
       "      <td>A/5 21171</td>\n",
       "      <td>7.2500</td>\n",
       "      <td>NaN</td>\n",
       "      <td>S</td>\n",
       "    </tr>\n",
       "    <tr>\n",
       "      <th>1</th>\n",
       "      <td>2</td>\n",
       "      <td>1</td>\n",
       "      <td>1</td>\n",
       "      <td>Cumings, Mrs. John Bradley (Florence Briggs Th...</td>\n",
       "      <td>female</td>\n",
       "      <td>38.0</td>\n",
       "      <td>1</td>\n",
       "      <td>0</td>\n",
       "      <td>PC 17599</td>\n",
       "      <td>71.2833</td>\n",
       "      <td>C85</td>\n",
       "      <td>C</td>\n",
       "    </tr>\n",
       "    <tr>\n",
       "      <th>2</th>\n",
       "      <td>3</td>\n",
       "      <td>1</td>\n",
       "      <td>3</td>\n",
       "      <td>Heikkinen, Miss. Laina</td>\n",
       "      <td>female</td>\n",
       "      <td>26.0</td>\n",
       "      <td>0</td>\n",
       "      <td>0</td>\n",
       "      <td>STON/O2. 3101282</td>\n",
       "      <td>7.9250</td>\n",
       "      <td>NaN</td>\n",
       "      <td>S</td>\n",
       "    </tr>\n",
       "    <tr>\n",
       "      <th>3</th>\n",
       "      <td>4</td>\n",
       "      <td>1</td>\n",
       "      <td>1</td>\n",
       "      <td>Futrelle, Mrs. Jacques Heath (Lily May Peel)</td>\n",
       "      <td>female</td>\n",
       "      <td>35.0</td>\n",
       "      <td>1</td>\n",
       "      <td>0</td>\n",
       "      <td>113803</td>\n",
       "      <td>53.1000</td>\n",
       "      <td>C123</td>\n",
       "      <td>S</td>\n",
       "    </tr>\n",
       "    <tr>\n",
       "      <th>4</th>\n",
       "      <td>5</td>\n",
       "      <td>0</td>\n",
       "      <td>3</td>\n",
       "      <td>Allen, Mr. William Henry</td>\n",
       "      <td>male</td>\n",
       "      <td>35.0</td>\n",
       "      <td>0</td>\n",
       "      <td>0</td>\n",
       "      <td>373450</td>\n",
       "      <td>8.0500</td>\n",
       "      <td>NaN</td>\n",
       "      <td>S</td>\n",
       "    </tr>\n",
       "    <tr>\n",
       "      <th>...</th>\n",
       "      <td>...</td>\n",
       "      <td>...</td>\n",
       "      <td>...</td>\n",
       "      <td>...</td>\n",
       "      <td>...</td>\n",
       "      <td>...</td>\n",
       "      <td>...</td>\n",
       "      <td>...</td>\n",
       "      <td>...</td>\n",
       "      <td>...</td>\n",
       "      <td>...</td>\n",
       "      <td>...</td>\n",
       "    </tr>\n",
       "    <tr>\n",
       "      <th>886</th>\n",
       "      <td>887</td>\n",
       "      <td>0</td>\n",
       "      <td>2</td>\n",
       "      <td>Montvila, Rev. Juozas</td>\n",
       "      <td>male</td>\n",
       "      <td>27.0</td>\n",
       "      <td>0</td>\n",
       "      <td>0</td>\n",
       "      <td>211536</td>\n",
       "      <td>13.0000</td>\n",
       "      <td>NaN</td>\n",
       "      <td>S</td>\n",
       "    </tr>\n",
       "    <tr>\n",
       "      <th>887</th>\n",
       "      <td>888</td>\n",
       "      <td>1</td>\n",
       "      <td>1</td>\n",
       "      <td>Graham, Miss. Margaret Edith</td>\n",
       "      <td>female</td>\n",
       "      <td>19.0</td>\n",
       "      <td>0</td>\n",
       "      <td>0</td>\n",
       "      <td>112053</td>\n",
       "      <td>30.0000</td>\n",
       "      <td>B42</td>\n",
       "      <td>S</td>\n",
       "    </tr>\n",
       "    <tr>\n",
       "      <th>888</th>\n",
       "      <td>889</td>\n",
       "      <td>0</td>\n",
       "      <td>3</td>\n",
       "      <td>Johnston, Miss. Catherine Helen \"Carrie\"</td>\n",
       "      <td>female</td>\n",
       "      <td>NaN</td>\n",
       "      <td>1</td>\n",
       "      <td>2</td>\n",
       "      <td>W./C. 6607</td>\n",
       "      <td>23.4500</td>\n",
       "      <td>NaN</td>\n",
       "      <td>S</td>\n",
       "    </tr>\n",
       "    <tr>\n",
       "      <th>889</th>\n",
       "      <td>890</td>\n",
       "      <td>1</td>\n",
       "      <td>1</td>\n",
       "      <td>Behr, Mr. Karl Howell</td>\n",
       "      <td>male</td>\n",
       "      <td>26.0</td>\n",
       "      <td>0</td>\n",
       "      <td>0</td>\n",
       "      <td>111369</td>\n",
       "      <td>30.0000</td>\n",
       "      <td>C148</td>\n",
       "      <td>C</td>\n",
       "    </tr>\n",
       "    <tr>\n",
       "      <th>890</th>\n",
       "      <td>891</td>\n",
       "      <td>0</td>\n",
       "      <td>3</td>\n",
       "      <td>Dooley, Mr. Patrick</td>\n",
       "      <td>male</td>\n",
       "      <td>32.0</td>\n",
       "      <td>0</td>\n",
       "      <td>0</td>\n",
       "      <td>370376</td>\n",
       "      <td>7.7500</td>\n",
       "      <td>NaN</td>\n",
       "      <td>Q</td>\n",
       "    </tr>\n",
       "  </tbody>\n",
       "</table>\n",
       "<p>891 rows × 12 columns</p>\n",
       "</div>"
      ],
      "text/plain": [
       "     PassengerId  Survived  Pclass  \\\n",
       "0              1         0       3   \n",
       "1              2         1       1   \n",
       "2              3         1       3   \n",
       "3              4         1       1   \n",
       "4              5         0       3   \n",
       "..           ...       ...     ...   \n",
       "886          887         0       2   \n",
       "887          888         1       1   \n",
       "888          889         0       3   \n",
       "889          890         1       1   \n",
       "890          891         0       3   \n",
       "\n",
       "                                                  Name     Sex   Age  SibSp  \\\n",
       "0                              Braund, Mr. Owen Harris    male  22.0      1   \n",
       "1    Cumings, Mrs. John Bradley (Florence Briggs Th...  female  38.0      1   \n",
       "2                               Heikkinen, Miss. Laina  female  26.0      0   \n",
       "3         Futrelle, Mrs. Jacques Heath (Lily May Peel)  female  35.0      1   \n",
       "4                             Allen, Mr. William Henry    male  35.0      0   \n",
       "..                                                 ...     ...   ...    ...   \n",
       "886                              Montvila, Rev. Juozas    male  27.0      0   \n",
       "887                       Graham, Miss. Margaret Edith  female  19.0      0   \n",
       "888           Johnston, Miss. Catherine Helen \"Carrie\"  female   NaN      1   \n",
       "889                              Behr, Mr. Karl Howell    male  26.0      0   \n",
       "890                                Dooley, Mr. Patrick    male  32.0      0   \n",
       "\n",
       "     Parch            Ticket     Fare Cabin Embarked  \n",
       "0        0         A/5 21171   7.2500   NaN        S  \n",
       "1        0          PC 17599  71.2833   C85        C  \n",
       "2        0  STON/O2. 3101282   7.9250   NaN        S  \n",
       "3        0            113803  53.1000  C123        S  \n",
       "4        0            373450   8.0500   NaN        S  \n",
       "..     ...               ...      ...   ...      ...  \n",
       "886      0            211536  13.0000   NaN        S  \n",
       "887      0            112053  30.0000   B42        S  \n",
       "888      2        W./C. 6607  23.4500   NaN        S  \n",
       "889      0            111369  30.0000  C148        C  \n",
       "890      0            370376   7.7500   NaN        Q  \n",
       "\n",
       "[891 rows x 12 columns]"
      ]
     },
     "execution_count": 75,
     "metadata": {},
     "output_type": "execute_result"
    }
   ],
   "source": [
    "# 訓練データの確認\n",
    "train"
   ]
  },
  {
   "cell_type": "code",
   "execution_count": 76,
   "metadata": {},
   "outputs": [
    {
     "data": {
      "text/html": [
       "<div>\n",
       "<style scoped>\n",
       "    .dataframe tbody tr th:only-of-type {\n",
       "        vertical-align: middle;\n",
       "    }\n",
       "\n",
       "    .dataframe tbody tr th {\n",
       "        vertical-align: top;\n",
       "    }\n",
       "\n",
       "    .dataframe thead th {\n",
       "        text-align: right;\n",
       "    }\n",
       "</style>\n",
       "<table border=\"1\" class=\"dataframe\">\n",
       "  <thead>\n",
       "    <tr style=\"text-align: right;\">\n",
       "      <th></th>\n",
       "      <th>PassengerId</th>\n",
       "      <th>Pclass</th>\n",
       "      <th>Name</th>\n",
       "      <th>Sex</th>\n",
       "      <th>Age</th>\n",
       "      <th>SibSp</th>\n",
       "      <th>Parch</th>\n",
       "      <th>Ticket</th>\n",
       "      <th>Fare</th>\n",
       "      <th>Cabin</th>\n",
       "      <th>Embarked</th>\n",
       "    </tr>\n",
       "  </thead>\n",
       "  <tbody>\n",
       "    <tr>\n",
       "      <th>0</th>\n",
       "      <td>892</td>\n",
       "      <td>3</td>\n",
       "      <td>Kelly, Mr. James</td>\n",
       "      <td>male</td>\n",
       "      <td>34.5</td>\n",
       "      <td>0</td>\n",
       "      <td>0</td>\n",
       "      <td>330911</td>\n",
       "      <td>7.8292</td>\n",
       "      <td>NaN</td>\n",
       "      <td>Q</td>\n",
       "    </tr>\n",
       "    <tr>\n",
       "      <th>1</th>\n",
       "      <td>893</td>\n",
       "      <td>3</td>\n",
       "      <td>Wilkes, Mrs. James (Ellen Needs)</td>\n",
       "      <td>female</td>\n",
       "      <td>47.0</td>\n",
       "      <td>1</td>\n",
       "      <td>0</td>\n",
       "      <td>363272</td>\n",
       "      <td>7.0000</td>\n",
       "      <td>NaN</td>\n",
       "      <td>S</td>\n",
       "    </tr>\n",
       "    <tr>\n",
       "      <th>2</th>\n",
       "      <td>894</td>\n",
       "      <td>2</td>\n",
       "      <td>Myles, Mr. Thomas Francis</td>\n",
       "      <td>male</td>\n",
       "      <td>62.0</td>\n",
       "      <td>0</td>\n",
       "      <td>0</td>\n",
       "      <td>240276</td>\n",
       "      <td>9.6875</td>\n",
       "      <td>NaN</td>\n",
       "      <td>Q</td>\n",
       "    </tr>\n",
       "    <tr>\n",
       "      <th>3</th>\n",
       "      <td>895</td>\n",
       "      <td>3</td>\n",
       "      <td>Wirz, Mr. Albert</td>\n",
       "      <td>male</td>\n",
       "      <td>27.0</td>\n",
       "      <td>0</td>\n",
       "      <td>0</td>\n",
       "      <td>315154</td>\n",
       "      <td>8.6625</td>\n",
       "      <td>NaN</td>\n",
       "      <td>S</td>\n",
       "    </tr>\n",
       "    <tr>\n",
       "      <th>4</th>\n",
       "      <td>896</td>\n",
       "      <td>3</td>\n",
       "      <td>Hirvonen, Mrs. Alexander (Helga E Lindqvist)</td>\n",
       "      <td>female</td>\n",
       "      <td>22.0</td>\n",
       "      <td>1</td>\n",
       "      <td>1</td>\n",
       "      <td>3101298</td>\n",
       "      <td>12.2875</td>\n",
       "      <td>NaN</td>\n",
       "      <td>S</td>\n",
       "    </tr>\n",
       "  </tbody>\n",
       "</table>\n",
       "</div>"
      ],
      "text/plain": [
       "   PassengerId  Pclass                                          Name     Sex  \\\n",
       "0          892       3                              Kelly, Mr. James    male   \n",
       "1          893       3              Wilkes, Mrs. James (Ellen Needs)  female   \n",
       "2          894       2                     Myles, Mr. Thomas Francis    male   \n",
       "3          895       3                              Wirz, Mr. Albert    male   \n",
       "4          896       3  Hirvonen, Mrs. Alexander (Helga E Lindqvist)  female   \n",
       "\n",
       "    Age  SibSp  Parch   Ticket     Fare Cabin Embarked  \n",
       "0  34.5      0      0   330911   7.8292   NaN        Q  \n",
       "1  47.0      1      0   363272   7.0000   NaN        S  \n",
       "2  62.0      0      0   240276   9.6875   NaN        Q  \n",
       "3  27.0      0      0   315154   8.6625   NaN        S  \n",
       "4  22.0      1      1  3101298  12.2875   NaN        S  "
      ]
     },
     "execution_count": 76,
     "metadata": {},
     "output_type": "execute_result"
    }
   ],
   "source": [
    "# テストデータの確認。★survivedがない\n",
    "test.head()"
   ]
  },
  {
   "cell_type": "code",
   "execution_count": 77,
   "metadata": {},
   "outputs": [
    {
     "name": "stdout",
     "output_type": "stream",
     "text": [
      "train.shape(891, 12), test.shape(418, 11)\n"
     ]
    }
   ],
   "source": [
    "# データサイズの確認\n",
    "print(\"train.shape{}, test.shape{}\".format(train.shape, test.shape))"
   ]
  },
  {
   "cell_type": "markdown",
   "metadata": {},
   "source": [
    "# データの可視化＆チェック\n",
    "データの中身を確認する部分。可視化も"
   ]
  },
  {
   "cell_type": "markdown",
   "metadata": {},
   "source": [
    "## 統計量の確認"
   ]
  },
  {
   "cell_type": "code",
   "execution_count": 78,
   "metadata": {},
   "outputs": [
    {
     "data": {
      "text/html": [
       "<div>\n",
       "<style scoped>\n",
       "    .dataframe tbody tr th:only-of-type {\n",
       "        vertical-align: middle;\n",
       "    }\n",
       "\n",
       "    .dataframe tbody tr th {\n",
       "        vertical-align: top;\n",
       "    }\n",
       "\n",
       "    .dataframe thead th {\n",
       "        text-align: right;\n",
       "    }\n",
       "</style>\n",
       "<table border=\"1\" class=\"dataframe\">\n",
       "  <thead>\n",
       "    <tr style=\"text-align: right;\">\n",
       "      <th></th>\n",
       "      <th>PassengerId</th>\n",
       "      <th>Survived</th>\n",
       "      <th>Pclass</th>\n",
       "      <th>Age</th>\n",
       "      <th>SibSp</th>\n",
       "      <th>Parch</th>\n",
       "      <th>Fare</th>\n",
       "    </tr>\n",
       "  </thead>\n",
       "  <tbody>\n",
       "    <tr>\n",
       "      <th>count</th>\n",
       "      <td>891.000000</td>\n",
       "      <td>891.000000</td>\n",
       "      <td>891.000000</td>\n",
       "      <td>714.000000</td>\n",
       "      <td>891.000000</td>\n",
       "      <td>891.000000</td>\n",
       "      <td>891.000000</td>\n",
       "    </tr>\n",
       "    <tr>\n",
       "      <th>mean</th>\n",
       "      <td>446.000000</td>\n",
       "      <td>0.383838</td>\n",
       "      <td>2.308642</td>\n",
       "      <td>29.699118</td>\n",
       "      <td>0.523008</td>\n",
       "      <td>0.381594</td>\n",
       "      <td>32.204208</td>\n",
       "    </tr>\n",
       "    <tr>\n",
       "      <th>std</th>\n",
       "      <td>257.353842</td>\n",
       "      <td>0.486592</td>\n",
       "      <td>0.836071</td>\n",
       "      <td>14.526497</td>\n",
       "      <td>1.102743</td>\n",
       "      <td>0.806057</td>\n",
       "      <td>49.693429</td>\n",
       "    </tr>\n",
       "    <tr>\n",
       "      <th>min</th>\n",
       "      <td>1.000000</td>\n",
       "      <td>0.000000</td>\n",
       "      <td>1.000000</td>\n",
       "      <td>0.420000</td>\n",
       "      <td>0.000000</td>\n",
       "      <td>0.000000</td>\n",
       "      <td>0.000000</td>\n",
       "    </tr>\n",
       "    <tr>\n",
       "      <th>25%</th>\n",
       "      <td>223.500000</td>\n",
       "      <td>0.000000</td>\n",
       "      <td>2.000000</td>\n",
       "      <td>20.125000</td>\n",
       "      <td>0.000000</td>\n",
       "      <td>0.000000</td>\n",
       "      <td>7.910400</td>\n",
       "    </tr>\n",
       "    <tr>\n",
       "      <th>50%</th>\n",
       "      <td>446.000000</td>\n",
       "      <td>0.000000</td>\n",
       "      <td>3.000000</td>\n",
       "      <td>28.000000</td>\n",
       "      <td>0.000000</td>\n",
       "      <td>0.000000</td>\n",
       "      <td>14.454200</td>\n",
       "    </tr>\n",
       "    <tr>\n",
       "      <th>75%</th>\n",
       "      <td>668.500000</td>\n",
       "      <td>1.000000</td>\n",
       "      <td>3.000000</td>\n",
       "      <td>38.000000</td>\n",
       "      <td>1.000000</td>\n",
       "      <td>0.000000</td>\n",
       "      <td>31.000000</td>\n",
       "    </tr>\n",
       "    <tr>\n",
       "      <th>max</th>\n",
       "      <td>891.000000</td>\n",
       "      <td>1.000000</td>\n",
       "      <td>3.000000</td>\n",
       "      <td>80.000000</td>\n",
       "      <td>8.000000</td>\n",
       "      <td>6.000000</td>\n",
       "      <td>512.329200</td>\n",
       "    </tr>\n",
       "  </tbody>\n",
       "</table>\n",
       "</div>"
      ],
      "text/plain": [
       "       PassengerId    Survived      Pclass         Age       SibSp  \\\n",
       "count   891.000000  891.000000  891.000000  714.000000  891.000000   \n",
       "mean    446.000000    0.383838    2.308642   29.699118    0.523008   \n",
       "std     257.353842    0.486592    0.836071   14.526497    1.102743   \n",
       "min       1.000000    0.000000    1.000000    0.420000    0.000000   \n",
       "25%     223.500000    0.000000    2.000000   20.125000    0.000000   \n",
       "50%     446.000000    0.000000    3.000000   28.000000    0.000000   \n",
       "75%     668.500000    1.000000    3.000000   38.000000    1.000000   \n",
       "max     891.000000    1.000000    3.000000   80.000000    8.000000   \n",
       "\n",
       "            Parch        Fare  \n",
       "count  891.000000  891.000000  \n",
       "mean     0.381594   32.204208  \n",
       "std      0.806057   49.693429  \n",
       "min      0.000000    0.000000  \n",
       "25%      0.000000    7.910400  \n",
       "50%      0.000000   14.454200  \n",
       "75%      0.000000   31.000000  \n",
       "max      6.000000  512.329200  "
      ]
     },
     "execution_count": 78,
     "metadata": {},
     "output_type": "execute_result"
    }
   ],
   "source": [
    "# 訓練データの統計量を算出\n",
    "train.describe()"
   ]
  },
  {
   "cell_type": "code",
   "execution_count": 79,
   "metadata": {},
   "outputs": [
    {
     "data": {
      "text/html": [
       "<div>\n",
       "<style scoped>\n",
       "    .dataframe tbody tr th:only-of-type {\n",
       "        vertical-align: middle;\n",
       "    }\n",
       "\n",
       "    .dataframe tbody tr th {\n",
       "        vertical-align: top;\n",
       "    }\n",
       "\n",
       "    .dataframe thead th {\n",
       "        text-align: right;\n",
       "    }\n",
       "</style>\n",
       "<table border=\"1\" class=\"dataframe\">\n",
       "  <thead>\n",
       "    <tr style=\"text-align: right;\">\n",
       "      <th></th>\n",
       "      <th>PassengerId</th>\n",
       "      <th>Pclass</th>\n",
       "      <th>Age</th>\n",
       "      <th>SibSp</th>\n",
       "      <th>Parch</th>\n",
       "      <th>Fare</th>\n",
       "    </tr>\n",
       "  </thead>\n",
       "  <tbody>\n",
       "    <tr>\n",
       "      <th>count</th>\n",
       "      <td>418.000000</td>\n",
       "      <td>418.000000</td>\n",
       "      <td>332.000000</td>\n",
       "      <td>418.000000</td>\n",
       "      <td>418.000000</td>\n",
       "      <td>417.000000</td>\n",
       "    </tr>\n",
       "    <tr>\n",
       "      <th>mean</th>\n",
       "      <td>1100.500000</td>\n",
       "      <td>2.265550</td>\n",
       "      <td>30.272590</td>\n",
       "      <td>0.447368</td>\n",
       "      <td>0.392344</td>\n",
       "      <td>35.627188</td>\n",
       "    </tr>\n",
       "    <tr>\n",
       "      <th>std</th>\n",
       "      <td>120.810458</td>\n",
       "      <td>0.841838</td>\n",
       "      <td>14.181209</td>\n",
       "      <td>0.896760</td>\n",
       "      <td>0.981429</td>\n",
       "      <td>55.907576</td>\n",
       "    </tr>\n",
       "    <tr>\n",
       "      <th>min</th>\n",
       "      <td>892.000000</td>\n",
       "      <td>1.000000</td>\n",
       "      <td>0.170000</td>\n",
       "      <td>0.000000</td>\n",
       "      <td>0.000000</td>\n",
       "      <td>0.000000</td>\n",
       "    </tr>\n",
       "    <tr>\n",
       "      <th>25%</th>\n",
       "      <td>996.250000</td>\n",
       "      <td>1.000000</td>\n",
       "      <td>21.000000</td>\n",
       "      <td>0.000000</td>\n",
       "      <td>0.000000</td>\n",
       "      <td>7.895800</td>\n",
       "    </tr>\n",
       "    <tr>\n",
       "      <th>50%</th>\n",
       "      <td>1100.500000</td>\n",
       "      <td>3.000000</td>\n",
       "      <td>27.000000</td>\n",
       "      <td>0.000000</td>\n",
       "      <td>0.000000</td>\n",
       "      <td>14.454200</td>\n",
       "    </tr>\n",
       "    <tr>\n",
       "      <th>75%</th>\n",
       "      <td>1204.750000</td>\n",
       "      <td>3.000000</td>\n",
       "      <td>39.000000</td>\n",
       "      <td>1.000000</td>\n",
       "      <td>0.000000</td>\n",
       "      <td>31.500000</td>\n",
       "    </tr>\n",
       "    <tr>\n",
       "      <th>max</th>\n",
       "      <td>1309.000000</td>\n",
       "      <td>3.000000</td>\n",
       "      <td>76.000000</td>\n",
       "      <td>8.000000</td>\n",
       "      <td>9.000000</td>\n",
       "      <td>512.329200</td>\n",
       "    </tr>\n",
       "  </tbody>\n",
       "</table>\n",
       "</div>"
      ],
      "text/plain": [
       "       PassengerId      Pclass         Age       SibSp       Parch        Fare\n",
       "count   418.000000  418.000000  332.000000  418.000000  418.000000  417.000000\n",
       "mean   1100.500000    2.265550   30.272590    0.447368    0.392344   35.627188\n",
       "std     120.810458    0.841838   14.181209    0.896760    0.981429   55.907576\n",
       "min     892.000000    1.000000    0.170000    0.000000    0.000000    0.000000\n",
       "25%     996.250000    1.000000   21.000000    0.000000    0.000000    7.895800\n",
       "50%    1100.500000    3.000000   27.000000    0.000000    0.000000   14.454200\n",
       "75%    1204.750000    3.000000   39.000000    1.000000    0.000000   31.500000\n",
       "max    1309.000000    3.000000   76.000000    8.000000    9.000000  512.329200"
      ]
     },
     "execution_count": 79,
     "metadata": {},
     "output_type": "execute_result"
    }
   ],
   "source": [
    "# テストデータの統計量を算出\n",
    "test.describe()"
   ]
  },
  {
   "cell_type": "code",
   "execution_count": 80,
   "metadata": {},
   "outputs": [
    {
     "name": "stdout",
     "output_type": "stream",
     "text": [
      "・Sex:  Counter({'male': 577, 'female': 314})\n",
      "・SibSp:  Counter({0: 608, 1: 209, 2: 28, 4: 18, 3: 16, 8: 7, 5: 5})\n",
      "・Ticket:  Counter({'347082': 7, '1601': 7, 'CA. 2343': 7, '3101295': 6, 'CA 2144': 6, '347088': 6, '382652': 5, 'S.O.C. 14879': 5, '349909': 4, '347077': 4, '19950': 4, 'W./C. 6608': 4, '4133': 4, 'LINE': 4, '113781': 4, '17421': 4, 'PC 17757': 4, '113760': 4, '2666': 4, '347742': 3, 'SC/Paris 2123': 3, 'PC 17572': 3, 'C.A. 34651': 3, '371110': 3, '230080': 3, '363291': 3, '35273': 3, 'C.A. 31921': 3, '110152': 3, 'PC 17755': 3, '110413': 3, 'PC 17582': 3, 'PC 17760': 3, '13502': 3, '239853': 3, 'F.C.C. 13529': 3, '29106': 3, '345773': 3, '248727': 3, '24160': 3, '113803': 2, '237736': 2, 'PP 9549': 2, '239865': 2, 'PC 17569': 2, 'PC 17604': 2, '113789': 2, '345764': 2, '2651': 2, '11668': 2, '349237': 2, '113572': 2, '36973': 2, '2661': 2, '248738': 2, '364516': 2, '3101278': 2, 'C.A. 2315': 2, '231919': 2, '244367': 2, '35281': 2, '110465': 2, '2665': 2, '2627': 2, 'PC 17558': 2, '2668': 2, '7534': 2, 'PC 17593': 2, '2678': 2, 'STON/O2. 3101279': 2, 'C.A. 33112': 2, '113776': 2, '113505': 2, '230136': 2, '370365': 2, '364849': 2, '347054': 2, '2699': 2, '243847': 2, '19943': 2, '367230': 2, '19928': 2, '250649': 2, '11751': 2, '244252': 2, 'A/5. 3336': 2, '370129': 2, '230433': 2, '113798': 2, '250644': 2, 'C.A. 2673': 2, '19877': 2, '11967': 2, '367226': 2, 'PC 17758': 2, 'P/PP 3381': 2, 'PC 17485': 2, '11767': 2, 'PC 17608': 2, '36928': 2, '16966': 2, '111361': 2, 'PC 17611': 2, 'C.A. 37671': 2, '2691': 2, 'PC 17477': 2, '2653': 2, '28403': 2, '347080': 2, '250655': 2, '376564': 2, '13507': 2, '17453': 2, '31027': 2, '36947': 2, '26360': 2, '12749': 2, 'PC 17761': 2, 'WE/P 5735': 2, '2908': 2, 'A/4 48871': 2, '358585': 2, '220845': 2, '2659': 2, '54636': 2, '19996': 2, '29750': 2, '17474': 2, '250647': 2, '113806': 2, '392096': 2, 'S.O./P.P. 3': 2, 'W./C. 6607': 2, 'S.C./PARIS 2079': 2, 'A/5 21171': 1, 'PC 17599': 1, 'STON/O2. 3101282': 1, '373450': 1, '330877': 1, '17463': 1, '113783': 1, 'A/5. 2151': 1, '350406': 1, '248706': 1, '244373': 1, '345763': 1, '2649': 1, '248698': 1, '330923': 1, '113788': 1, '2631': 1, '330959': 1, '349216': 1, 'PC 17601': 1, '335677': 1, 'C.A. 24579': 1, '2677': 1, 'A./5. 2152': 1, '7546': 1, '349253': 1, '330958': 1, 'S.C./A.4. 23567': 1, '370371': 1, '14311': 1, '2662': 1, 'A/4. 39886': 1, '2926': 1, '113509': 1, '19947': 1, 'C.A. 31026': 1, '2697': 1, '2669': 1, 'PC 17605': 1, 'C.A. 29395': 1, 'S.P. 3464': 1, '3101281': 1, '315151': 1, 'C.A. 33111': 1, '2680': 1, '348123': 1, '349208': 1, '374746': 1, '345767': 1, '345779': 1, '330932': 1, '113059': 1, 'SO/C 14885': 1, 'SOTON/OQ 392086': 1, '343275': 1, '343276': 1, '347466': 1, 'W.E.P. 5734': 1, '364500': 1, '374910': 1, 'PC 17754': 1, 'PC 17759': 1, '349245': 1, '349215': 1, '7540': 1, '3101276': 1, '349207': 1, '343120': 1, '312991': 1, '349249': 1, '324669': 1, '4136': 1, 'STON/O 2. 3101294': 1, '370369': 1, 'A4. 54510': 1, '27267': 1, '370372': 1, 'C 17369': 1, '347061': 1, '349241': 1, 'SOTON/O.Q. 3101307': 1, 'A/5. 3337': 1, '228414': 1, 'C.A. 29178': 1, 'SC/PARIS 2133': 1, '11752': 1, '347081': 1, '365222': 1, '231945': 1, '350043': 1, '244310': 1, 'S.O.P. 1166': 1, 'A.5. 11206': 1, 'A/5. 851': 1, 'Fa 265302': 1, 'PC 17597': 1, '35851': 1, 'SOTON/OQ 392090': 1, '315037': 1, '371362': 1, 'C.A. 33595': 1, '347068': 1, '315093': 1, 'PC 17318': 1, '111240': 1, 'STON/O 2. 3101280': 1, '17764': 1, '350404': 1, 'PC 17595': 1, '250653': 1, 'SC/PARIS 2131': 1, '315153': 1, '113767': 1, '111428': 1, '349247': 1, '234604': 1, '28424': 1, '350046': 1, 'PC 17610': 1, '368703': 1, '4579': 1, '370370': 1, '248747': 1, '345770': 1, '3101264': 1, '2628': 1, 'A/5 3540': 1, '367231': 1, '112277': 1, 'SOTON/O.Q. 3101311': 1, 'F.C.C. 13528': 1, 'A/5 21174': 1, '250646': 1, '367229': 1, 'STON/O2. 3101283': 1, '11813': 1, 'W/C 14208': 1, 'SOTON/OQ 392089': 1, '220367': 1, '21440': 1, '349234': 1, 'PP 4348': 1, 'SW/PP 751': 1, 'A/5 21173': 1, '236171': 1, '347067': 1, '237442': 1, 'C.A. 29566': 1, 'W./C. 6609': 1, '26707': 1, '28665': 1, 'SCO/W 1585': 1, 'W./C. 14263': 1, 'STON/O 2. 3101275': 1, '2694': 1, '347071': 1, '362316': 1, '113514': 1, '2650': 1, 'PC 17585': 1, '384461': 1, '112059': 1, '382649': 1, 'C.A. 17248': 1, '347083': 1, 'PC 17596': 1, '370375': 1, '347073': 1, '336439': 1, '347464': 1, '345778': 1, 'A/5. 10482': 1, '113056': 1, '349239': 1, '345774': 1, '349206': 1, '237798': 1, '370373': 1, 'SC/Paris 2163': 1, '349236': 1, '349233': 1, 'PC 17612': 1, '2693': 1, '19988': 1, '9234': 1, '226593': 1, 'A/5 2466': 1, '250651': 1, '349243': 1, '347470': 1, '29011': 1, 'A/5 21172': 1, '349219': 1, '234818': 1, '345364': 1, '28551': 1, '113043': 1, '349225': 1, '7598': 1, '113784': 1, '248740': 1, '244361': 1, '229236': 1, '248733': 1, '31418': 1, '386525': 1, '315088': 1, '7267': 1, '113510': 1, '2695': 1, '2647': 1, '345783': 1, '237671': 1, '330931': 1, '330980': 1, 'SC/PARIS 2167': 1, 'SOTON/O.Q. 3101310': 1, 'C 7076': 1, '110813': 1, '2626': 1, '14313': 1, '11765': 1, '3101267': 1, '323951': 1, 'C 7077': 1, '113503': 1, '2648': 1, '347069': 1, 'STON/O 2. 3101293': 1, '349227': 1, '27849': 1, '367655': 1, 'SC 1748': 1, '350034': 1, '3101277': 1, '350052': 1, '350407': 1, '244278': 1, '240929': 1, 'STON/O 2. 3101289': 1, '341826': 1, '4137': 1, '315096': 1, '28664': 1, '347064': 1, '312992': 1, '349222': 1, '394140': 1, 'STON/O 2. 3101269': 1, '343095': 1, '28220': 1, '250652': 1, '28228': 1, '349254': 1, 'A/5. 13032': 1, '315082': 1, 'A/4. 34244': 1, '2003': 1, '364851': 1, 'SOTON/O.Q. 392078': 1, '110564': 1, 'SC/AH 3085': 1, 'STON/O 2. 3101274': 1, 'C.A. 18723': 1, '345769': 1, '347076': 1, '230434': 1, '65306': 1, '33638': 1, '113794': 1, '113786': 1, '65303': 1, '113051': 1, 'A/5 2817': 1, '349240': 1, '13509': 1, '17464': 1, 'F.C.C. 13531': 1, '371060': 1, '19952': 1, '364506': 1, '111320': 1, '234360': 1, 'A/S 2816': 1, 'SOTON/O.Q. 3101306': 1, '113792': 1, '36209': 1, '323592': 1, '315089': 1, 'SC/AH Basle 541': 1, '7553': 1, '3460': 1, '350060': 1, '3101298': 1, '239854': 1, 'A/5 3594': 1, '4134': 1, '11771': 1, 'A.5. 18509': 1, '65304': 1, 'SOTON/OQ 3101317': 1, '113787': 1, 'PC 17609': 1, 'A/4 45380': 1, 'C.A. 6212': 1, '350035': 1, '315086': 1, '364846': 1, '330909': 1, '4135': 1, '111427': 1, 'C 4001': 1, '382651': 1, 'SOTON/OQ 3101316': 1, 'PC 17473': 1, 'PC 17603': 1, '349209': 1, '36967': 1, 'C.A. 34260': 1, '226875': 1, '349242': 1, '349252': 1, '2624': 1, '2700': 1, '367232': 1, 'W./C. 14258': 1, 'PC 17483': 1, '3101296': 1, '29104': 1, '2641': 1, '2690': 1, '315084': 1, '113050': 1, '364498': 1, '13568': 1, '693': 1, 'SC/PARIS 2146': 1, '244358': 1, '330979': 1, '2620': 1, '347085': 1, '113807': 1, '11755': 1, '345572': 1, '372622': 1, '349251': 1, '218629': 1, 'SOTON/OQ 392082': 1, 'SOTON/O.Q. 392087': 1, '349205': 1, '2686': 1, '350417': 1, 'S.W./PP 752': 1, '11769': 1, 'PC 17474': 1, '14312': 1, 'A/4. 20589': 1, '243880': 1, '2689': 1, 'STON/O 2. 3101286': 1, '237789': 1, '13049': 1, '3411': 1, '237565': 1, '13567': 1, '14973': 1, 'A./5. 3235': 1, 'STON/O 2. 3101273': 1, 'A/5 3902': 1, '364848': 1, 'SC/AH 29037': 1, '2664': 1, '349214': 1, '113796': 1, '364511': 1, '111426': 1, '349910': 1, '349246': 1, '113804': 1, 'SOTON/O.Q. 3101305': 1, '370377': 1, '364512': 1, '31028': 1, '11753': 1, '350029': 1, '36963': 1, '219533': 1, '349224': 1, '334912': 1, '27042': 1, '347743': 1, '13214': 1, '112052': 1, '237668': 1, 'STON/O 2. 3101292': 1, '350050': 1, '349231': 1, '13213': 1, 'S.O./P.P. 751': 1, 'CA. 2314': 1, '349221': 1, '8475': 1, '330919': 1, '365226': 1, '349223': 1, '29751': 1, '2623': 1, '5727': 1, '349210': 1, 'STON/O 2. 3101285': 1, '234686': 1, '312993': 1, 'A/5 3536': 1, 'F.C. 12750': 1, 'C.A. 24580': 1, '244270': 1, '239856': 1, '349912': 1, '342826': 1, '4138': 1, '330935': 1, '6563': 1, '349228': 1, '350036': 1, '349256': 1, '2672': 1, '113800': 1, '248731': 1, '363592': 1, '35852': 1, '348121': 1, 'PC 17475': 1, '36864': 1, '350025': 1, '223596': 1, 'PC 17476': 1, 'PC 17482': 1, '113028': 1, '7545': 1, '348124': 1, '34218': 1, '36568': 1, '347062': 1, '350048': 1, '12233': 1, '250643': 1, '315094': 1, '36866': 1, '236853': 1, 'STON/O2. 3101271': 1, '239855': 1, '28425': 1, '233639': 1, '349201': 1, '349218': 1, '16988': 1, '376566': 1, 'STON/O 2. 3101288': 1, '250648': 1, '113773': 1, '335097': 1, '29103': 1, '345780': 1, '349204': 1, '350042': 1, '29108': 1, '363294': 1, 'SOTON/O2 3101272': 1, '2663': 1, '347074': 1, '112379': 1, '364850': 1, '8471': 1, '345781': 1, '350047': 1, '2674': 1, '29105': 1, '347078': 1, '383121': 1, '36865': 1, '2687': 1, '113501': 1, 'SOTON/O.Q. 3101312': 1, '374887': 1, '3101265': 1, '12460': 1, 'PC 17600': 1, '349203': 1, '28213': 1, '17465': 1, '349244': 1, '2685': 1, '2625': 1, '347089': 1, '347063': 1, '112050': 1, '347087': 1, '248723': 1, '3474': 1, '28206': 1, '364499': 1, '112058': 1, 'STON/O2. 3101290': 1, 'C 7075': 1, '315098': 1, '19972': 1, '368323': 1, '367228': 1, '2671': 1, '347468': 1, '2223': 1, 'PC 17756': 1, '315097': 1, '392092': 1, '11774': 1, 'SOTON/O2 3101287': 1, '2683': 1, '315090': 1, 'C.A. 5547': 1, '349213': 1, '347060': 1, 'PC 17592': 1, '392091': 1, '113055': 1, '2629': 1, '350026': 1, '28134': 1, '17466': 1, '233866': 1, '236852': 1, 'SC/PARIS 2149': 1, 'PC 17590': 1, '345777': 1, '349248': 1, '695': 1, '345765': 1, '2667': 1, '349212': 1, '349217': 1, '349257': 1, '7552': 1, 'C.A./SOTON 34068': 1, 'SOTON/OQ 392076': 1, '211536': 1, '112053': 1, '111369': 1, '370376': 1})\n",
      "・Cabin:  Counter({nan: 687, 'G6': 4, 'C23 C25 C27': 4, 'B96 B98': 4, 'F33': 3, 'E101': 3, 'F2': 3, 'D': 3, 'C22 C26': 3, 'C123': 2, 'D33': 2, 'C52': 2, 'B28': 2, 'C83': 2, 'F G73': 2, 'D26': 2, 'B58 B60': 2, 'C2': 2, 'E33': 2, 'F4': 2, 'D36': 2, 'C93': 2, 'C78': 2, 'D35': 2, 'B77': 2, 'E67': 2, 'C125': 2, 'B49': 2, 'C65': 2, 'B57 B59 B63 B66': 2, 'B18': 2, 'C124': 2, 'B35': 2, 'E44': 2, 'C92': 2, 'D20': 2, 'E25': 2, 'B22': 2, 'C68': 2, 'C126': 2, 'B51 B53 B55': 2, 'B5': 2, 'B20': 2, 'E24': 2, 'E8': 2, 'E121': 2, 'D17': 2, 'C85': 1, 'E46': 1, 'C103': 1, 'D56': 1, 'A6': 1, 'B78': 1, 'B30': 1, 'E31': 1, 'A5': 1, 'D10 D12': 1, 'C110': 1, 'F E69': 1, 'D47': 1, 'B86': 1, 'B19': 1, 'A7': 1, 'C49': 1, 'A32': 1, 'B4': 1, 'B80': 1, 'A31': 1, 'D15': 1, 'C87': 1, 'B94': 1, 'C99': 1, 'C118': 1, 'D7': 1, 'A19': 1, 'C106': 1, 'E36': 1, 'C54': 1, 'C7': 1, 'E34': 1, 'C32': 1, 'C91': 1, 'E40': 1, 'T': 1, 'C128': 1, 'D37': 1, 'E50': 1, 'C82': 1, 'E10': 1, 'A34': 1, 'C104': 1, 'C111': 1, 'E38': 1, 'D21': 1, 'E12': 1, 'E63': 1, 'A14': 1, 'B37': 1, 'C30': 1, 'B79': 1, 'D46': 1, 'B73': 1, 'C95': 1, 'B38': 1, 'B39': 1, 'C86': 1, 'C70': 1, 'A16': 1, 'C101': 1, 'A10': 1, 'E68': 1, 'B41': 1, 'A20': 1, 'D19': 1, 'D50': 1, 'D9': 1, 'A23': 1, 'B50': 1, 'A26': 1, 'D48': 1, 'E58': 1, 'B71': 1, 'D49': 1, 'F G63': 1, 'C62 C64': 1, 'C90': 1, 'C45': 1, 'B101': 1, 'D45': 1, 'C46': 1, 'D30': 1, 'D11': 1, 'E77': 1, 'F38': 1, 'B3': 1, 'D6': 1, 'B82 B84': 1, 'A36': 1, 'B102': 1, 'B69': 1, 'E49': 1, 'C47': 1, 'D28': 1, 'E17': 1, 'A24': 1, 'C50': 1, 'B42': 1, 'C148': 1})\n",
      "・Embarked:  Counter({'S': 644, 'C': 168, 'Q': 77, nan: 2})\n"
     ]
    }
   ],
   "source": [
    "import collections\n",
    "categorical = ['Sex', 'SibSp', 'Ticket', 'Cabin', 'Embarked']\n",
    "for c in categorical:\n",
    "    print(f'・{c}: ', collections.Counter(train[c])) \n",
    "    # male(男)の方が多いとわかる\n",
    "    # チケットがよくわからん！！⇒CAなどだけ取り出さないと過適合する"
   ]
  },
  {
   "cell_type": "markdown",
   "metadata": {},
   "source": [
    "## 正解ラベルとの関係を確認"
   ]
  },
  {
   "cell_type": "code",
   "execution_count": 81,
   "metadata": {},
   "outputs": [
    {
     "data": {
      "image/png": "[encoded data removed]",
      "text/plain": [
       "<Figure size 576x504 with 2 Axes>"
      ]
     },
     "metadata": {
      "needs_background": "light"
     },
     "output_type": "display_data"
    }
   ],
   "source": [
    "# 数値変数間の相関係数のヒートマップ\n",
    "fig = plt.figure(figsize=(8,7))\n",
    "ax = sns.heatmap(train.corr(), annot=True, cmap='BrBG', vmin=-1, vmax=1)\n",
    "# 下記で.png保存も可能\n",
    "# fig.savefig('titanic_heatmap.png', bbox_inches='tight')"
   ]
  },
  {
   "cell_type": "code",
   "execution_count": 82,
   "metadata": {},
   "outputs": [
    {
     "data": {
      "image/png": "[encoded data removed]",
      "text/plain": [
       "<Figure size 432x288 with 1 Axes>"
      ]
     },
     "metadata": {
      "needs_background": "light"
     },
     "output_type": "display_data"
    }
   ],
   "source": [
    "# カテゴリ変数(Sex)とSurvivedの関係\n",
    "fig = plt.figure(figsize=(6,4))\n",
    "ax = sns.barplot(y='Survived', x='Sex', data=train)\n",
    "# 下記で.png保存できる。femaleのほうがたくさん生き残っている\n",
    "# fig.savefig('titanic_Survived(男女別).png', bbox_inches='tight')"
   ]
  },
  {
   "cell_type": "code",
   "execution_count": 83,
   "metadata": {},
   "outputs": [
    {
     "data": {
      "image/png": "[encoded data removed]",
      "text/plain": [
       "<Figure size 432x288 with 1 Axes>"
      ]
     },
     "metadata": {
      "needs_background": "light"
     },
     "output_type": "display_data"
    }
   ],
   "source": [
    "## カテゴリ変数(Pclass)とSurvivedの関係\n",
    "fig = plt.figure(figsize=(6,4))\n",
    "ax = sns.barplot(y='Survived', x='Pclass', data=train) # クラスが高いほど生き残っている(1 > 2 > 3)"
   ]
  },
  {
   "cell_type": "markdown",
   "metadata": {},
   "source": [
    "## データの欠損の確認"
   ]
  },
  {
   "cell_type": "code",
   "execution_count": 84,
   "metadata": {},
   "outputs": [
    {
     "name": "stdout",
     "output_type": "stream",
     "text": [
      "●train\n",
      "PassengerId      0\n",
      "Survived         0\n",
      "Pclass           0\n",
      "Name             0\n",
      "Sex              0\n",
      "Age            177\n",
      "SibSp            0\n",
      "Parch            0\n",
      "Ticket           0\n",
      "Fare             0\n",
      "Cabin          687\n",
      "Embarked         2\n",
      "dtype: int64\n",
      "●test\n",
      "PassengerId      0\n",
      "Pclass           0\n",
      "Name             0\n",
      "Sex              0\n",
      "Age             86\n",
      "SibSp            0\n",
      "Parch            0\n",
      "Ticket           0\n",
      "Fare             1\n",
      "Cabin          327\n",
      "Embarked         0\n",
      "dtype: int64\n"
     ]
    }
   ],
   "source": [
    "# データの欠損の確認\n",
    "print(\"●train\\n{}\".format(train.isnull().sum()))\n",
    "print(\"●test\\n{}\".format(test.isnull().sum()))"
   ]
  },
  {
   "cell_type": "code",
   "execution_count": 14,
   "metadata": {},
   "outputs": [
    {
     "data": {
      "image/png": "[encoded data removed]",
      "text/plain": [
       "<Figure size 432x288 with 1 Axes>"
      ]
     },
     "metadata": {
      "needs_background": "light"
     },
     "output_type": "display_data"
    }
   ],
   "source": [
    "# 年齢の欠損とSurvivedの関係\n",
    "train[\"Age_null\"] = train[\"Age\"].isnull()\n",
    "\n",
    "fig = plt.figure(figsize=(6,4))\n",
    "sns.barplot(y='Survived', x='Age_null', data=train)\n",
    "# fig.savefig('titanic_EDA_AgeNull_Survived.png', bbox_inches='tight')\n",
    "\n",
    "del train[\"Age_null\"] # Null(身元がはっきりしない)のほうがたくさん死んでいる"
   ]
  },
  {
   "cell_type": "code",
   "execution_count": 30,
   "metadata": {},
   "outputs": [
    {
     "data": {
      "image/png": "[encoded data removed]",
      "text/plain": [
       "<Figure size 432x288 with 1 Axes>"
      ]
     },
     "metadata": {
      "needs_background": "light"
     },
     "output_type": "display_data"
    }
   ],
   "source": [
    "# Cabinの欠損とSurvivedの関係\n",
    "train[\"Cabin_null\"] = train[\"Cabin\"].isnull()\n",
    "\n",
    "fig = plt.figure(figsize=(6,4))\n",
    "sns.barplot(y='Survived', x='Cabin_null', data=train)\n",
    "# fig.savefig('titanic_EDA_AgeNull_Survived.png', bbox_inches='tight')\n",
    "\n",
    "del train[\"Cabin_null\"] # Null(身元がはっきりしない)のほうがたくさん死んでいる⇒Nullかどうかは重要とわかる"
   ]
  },
  {
   "cell_type": "markdown",
   "metadata": {},
   "source": [
    "# データの前処理"
   ]
  },
  {
   "cell_type": "code",
   "execution_count": 31,
   "metadata": {},
   "outputs": [],
   "source": [
    "# ライブラリインポート\n",
    "from sklearn.preprocessing import OrdinalEncoder\n",
    "from sklearn.model_selection import train_test_split"
   ]
  },
  {
   "cell_type": "markdown",
   "metadata": {},
   "source": [
    "## データの前処理"
   ]
  },
  {
   "cell_type": "code",
   "execution_count": 32,
   "metadata": {},
   "outputs": [],
   "source": [
    "# NameをTitleに変換する関数\n",
    "def replace_name(series):\n",
    "    series = series.apply(lambda x: x.split(',')[1].split('.')[0].strip())\n",
    "    series = series.replace(['Capt','Col','Major','Dr','Rev'], 'Officer')\n",
    "    series = series.replace(['Don','Sir','the Countess','Lady','Dona'], 'Royalty')\n",
    "    series = series.replace(['Mme','Ms'], 'Mrs')\n",
    "    series = series.replace(['Mlle'], 'Miss')\n",
    "    series = series.replace(['Jonkheer'], 'Master')\n",
    "    return series"
   ]
  },
  {
   "cell_type": "code",
   "execution_count": 85,
   "metadata": {},
   "outputs": [],
   "source": [
    "# カテゴリカル変数の定義\n",
    "categorical_features = [\"Sex\", \"Embarked\", \"Title\"]"
   ]
  },
  {
   "cell_type": "code",
   "execution_count": 86,
   "metadata": {},
   "outputs": [],
   "source": [
    "# 特徴量エンジニアリングの実行\n",
    "train = train.dropna(subset=['Embarked'])\n",
    "df = pd.concat([train, test])\n",
    "df['Family'] = df['SibSp'] + df['Parch'] + 1\n",
    "df[\"Title\"] = replace_name(df[\"Name\"])\n",
    "df[\"Age_null\"] = df[\"Age\"].isnull()\n",
    "df[\"Age\"] = df[\"Age\"].fillna(df[\"Age\"].median())\n",
    "df[\"Fare\"] = df[\"Fare\"].fillna(df[df[\"Pclass\"]==3][\"Fare\"].median())\n",
    "df = df.drop(columns=['PassengerId', 'Name', 'Ticket', 'Cabin', 'SibSp', 'Parch'])\n",
    "oe = OrdinalEncoder()\n",
    "df[categorical_features] = oe.fit_transform(df[categorical_features]).astype(int)\n",
    "train = df[df[\"Survived\"].notnull()]\n",
    "test = df[df[\"Survived\"].isnull()].drop(columns=[\"Survived\"])\n",
    "train0 = train # 公差検証用にescape"
   ]
  },
  {
   "cell_type": "markdown",
   "metadata": {},
   "source": [
    "## データセット作成"
   ]
  },
  {
   "cell_type": "code",
   "execution_count": 87,
   "metadata": {},
   "outputs": [],
   "source": [
    "# 訓練データを学習データと検証データに分割\n",
    "train, valid = train_test_split(train, test_size=0.2, stratify=train[\"Survived\"], random_state=100)"
   ]
  },
  {
   "cell_type": "code",
   "execution_count": 88,
   "metadata": {},
   "outputs": [],
   "source": [
    "# データの保存\n",
    "train.to_csv(\"train_proc.csv\",index=None)\n",
    "valid.to_csv(\"valid_proc.csv\",index=None)\n",
    "test.to_csv(\"test_proc.csv\",index=None)"
   ]
  },
  {
   "cell_type": "code",
   "execution_count": 89,
   "metadata": {},
   "outputs": [],
   "source": [
    "# 説明変数と目的変数に分割\n",
    "def make_Xy(df, col_y=\"Survived\"):\n",
    "    return df.drop(columns=[col_y]), df[col_y]\n",
    "\n",
    "train0_X, train0_y = make_Xy(train0)\n",
    "train_X, train_y = make_Xy(train)\n",
    "valid_X, valid_y = make_Xy(valid)\n",
    "test_X = test"
   ]
  },
  {
   "cell_type": "markdown",
   "metadata": {},
   "source": [
    "# モデルの学習"
   ]
  },
  {
   "cell_type": "code",
   "execution_count": 90,
   "metadata": {},
   "outputs": [],
   "source": [
    "# ライブラリインポート\n",
    "from lightgbm import LGBMClassifier\n",
    "import pickle as pkl"
   ]
  },
  {
   "cell_type": "code",
   "execution_count": 91,
   "metadata": {},
   "outputs": [],
   "source": [
    "# モデルの定義\n",
    "model = LGBMClassifier(max_depth=10, colsample_bytree=0.5, \n",
    "                       reg_lambda=0.5, reg_alpha=0.5, \n",
    "                       importance_type=\"gain\", random_state=100)"
   ]
  },
  {
   "cell_type": "code",
   "execution_count": 92,
   "metadata": {},
   "outputs": [
    {
     "name": "stdout",
     "output_type": "stream",
     "text": [
      "[10]\tvalid_0's binary_logloss: 0.484339\n",
      "[20]\tvalid_0's binary_logloss: 0.435251\n",
      "[30]\tvalid_0's binary_logloss: 0.417806\n",
      "[40]\tvalid_0's binary_logloss: 0.413229\n",
      "[50]\tvalid_0's binary_logloss: 0.413939\n",
      "[60]\tvalid_0's binary_logloss: 0.413546\n",
      "[70]\tvalid_0's binary_logloss: 0.412299\n",
      "[80]\tvalid_0's binary_logloss: 0.410329\n",
      "[90]\tvalid_0's binary_logloss: 0.412802\n",
      "[100]\tvalid_0's binary_logloss: 0.414618\n"
     ]
    },
    {
     "data": {
      "text/html": [
       "<style>#sk-container-id-4 {color: black;background-color: white;}#sk-container-id-4 pre{padding: 0;}#sk-container-id-4 div.sk-toggleable {background-color: white;}#sk-container-id-4 label.sk-toggleable__label {cursor: pointer;display: block;width: 100%;margin-bottom: 0;padding: 0.3em;box-sizing: border-box;text-align: center;}#sk-container-id-4 label.sk-toggleable__label-arrow:before {content: \"▸\";float: left;margin-right: 0.25em;color: #696969;}#sk-container-id-4 label.sk-toggleable__label-arrow:hover:before {color: black;}#sk-container-id-4 div.sk-estimator:hover label.sk-toggleable__label-arrow:before {color: black;}#sk-container-id-4 div.sk-toggleable__content {max-height: 0;max-width: 0;overflow: hidden;text-align: left;background-color: #f0f8ff;}#sk-container-id-4 div.sk-toggleable__content pre {margin: 0.2em;color: black;border-radius: 0.25em;background-color: #f0f8ff;}#sk-container-id-4 input.sk-toggleable__control:checked~div.sk-toggleable__content {max-height: 200px;max-width: 100%;overflow: auto;}#sk-container-id-4 input.sk-toggleable__control:checked~label.sk-toggleable__label-arrow:before {content: \"▾\";}#sk-container-id-4 div.sk-estimator input.sk-toggleable__control:checked~label.sk-toggleable__label {background-color: #d4ebff;}#sk-container-id-4 div.sk-label input.sk-toggleable__control:checked~label.sk-toggleable__label {background-color: #d4ebff;}#sk-container-id-4 input.sk-hidden--visually {border: 0;clip: rect(1px 1px 1px 1px);clip: rect(1px, 1px, 1px, 1px);height: 1px;margin: -1px;overflow: hidden;padding: 0;position: absolute;width: 1px;}#sk-container-id-4 div.sk-estimator {font-family: monospace;background-color: #f0f8ff;border: 1px dotted black;border-radius: 0.25em;box-sizing: border-box;margin-bottom: 0.5em;}#sk-container-id-4 div.sk-estimator:hover {background-color: #d4ebff;}#sk-container-id-4 div.sk-parallel-item::after {content: \"\";width: 100%;border-bottom: 1px solid gray;flex-grow: 1;}#sk-container-id-4 div.sk-label:hover label.sk-toggleable__label {background-color: #d4ebff;}#sk-container-id-4 div.sk-serial::before {content: \"\";position: absolute;border-left: 1px solid gray;box-sizing: border-box;top: 0;bottom: 0;left: 50%;z-index: 0;}#sk-container-id-4 div.sk-serial {display: flex;flex-direction: column;align-items: center;background-color: white;padding-right: 0.2em;padding-left: 0.2em;position: relative;}#sk-container-id-4 div.sk-item {position: relative;z-index: 1;}#sk-container-id-4 div.sk-parallel {display: flex;align-items: stretch;justify-content: center;background-color: white;position: relative;}#sk-container-id-4 div.sk-item::before, #sk-container-id-4 div.sk-parallel-item::before {content: \"\";position: absolute;border-left: 1px solid gray;box-sizing: border-box;top: 0;bottom: 0;left: 50%;z-index: -1;}#sk-container-id-4 div.sk-parallel-item {display: flex;flex-direction: column;z-index: 1;position: relative;background-color: white;}#sk-container-id-4 div.sk-parallel-item:first-child::after {align-self: flex-end;width: 50%;}#sk-container-id-4 div.sk-parallel-item:last-child::after {align-self: flex-start;width: 50%;}#sk-container-id-4 div.sk-parallel-item:only-child::after {width: 0;}#sk-container-id-4 div.sk-dashed-wrapped {border: 1px dashed gray;margin: 0 0.4em 0.5em 0.4em;box-sizing: border-box;padding-bottom: 0.4em;background-color: white;}#sk-container-id-4 div.sk-label label {font-family: monospace;font-weight: bold;display: inline-block;line-height: 1.2em;}#sk-container-id-4 div.sk-label-container {text-align: center;}#sk-container-id-4 div.sk-container {/* jupyter's `normalize.less` sets `[hidden] { display: none; }` but bootstrap.min.css set `[hidden] { display: none !important; }` so we also need the `!important` here to be able to override the default hidden behavior on the sphinx rendered scikit-learn.org. See: https://github.com/scikit-learn/scikit-learn/issues/21755 */display: inline-block !important;position: relative;}#sk-container-id-4 div.sk-text-repr-fallback {display: none;}</style><div id=\"sk-container-id-4\" class=\"sk-top-container\"><div class=\"sk-text-repr-fallback\"><pre>LGBMClassifier(colsample_bytree=0.5, importance_type=&#x27;gain&#x27;, max_depth=10,\n",
       "               random_state=100, reg_alpha=0.5, reg_lambda=0.5)</pre><b>In a Jupyter environment, please rerun this cell to show the HTML representation or trust the notebook. <br />On GitHub, the HTML representation is unable to render, please try loading this page with nbviewer.org.</b></div><div class=\"sk-container\" hidden><div class=\"sk-item\"><div class=\"sk-estimator sk-toggleable\"><input class=\"sk-toggleable__control sk-hidden--visually\" id=\"sk-estimator-id-4\" type=\"checkbox\" checked><label for=\"sk-estimator-id-4\" class=\"sk-toggleable__label sk-toggleable__label-arrow\">LGBMClassifier</label><div class=\"sk-toggleable__content\"><pre>LGBMClassifier(colsample_bytree=0.5, importance_type=&#x27;gain&#x27;, max_depth=10,\n",
       "               random_state=100, reg_alpha=0.5, reg_lambda=0.5)</pre></div></div></div></div></div>"
      ],
      "text/plain": [
       "LGBMClassifier(colsample_bytree=0.5, importance_type='gain', max_depth=10,\n",
       "               random_state=100, reg_alpha=0.5, reg_lambda=0.5)"
      ]
     },
     "execution_count": 92,
     "metadata": {},
     "output_type": "execute_result"
    }
   ],
   "source": [
    "# 学習の実行\n",
    "model.fit(\n",
    "    train_X, train_y,\n",
    "    eval_set=[(valid_X, valid_y)],\n",
    "    early_stopping_rounds=50,\n",
    "    verbose=10,\n",
    "    categorical_feature=categorical_features\n",
    ")"
   ]
  },
  {
   "cell_type": "code",
   "execution_count": 93,
   "metadata": {},
   "outputs": [
    {
     "name": "stdout",
     "output_type": "stream",
     "text": [
      "Accuracy(train) 0.885\n",
      "Accuracy(valid) 0.826\n"
     ]
    }
   ],
   "source": [
    "# 正解率の計算\n",
    "print(\"Accuracy(train) {:.3f}\".format(model.score(train_X, train_y)))\n",
    "print(\"Accuracy(valid) {:.3f}\".format(model.score(valid_X, valid_y)))"
   ]
  },
  {
   "cell_type": "code",
   "execution_count": 94,
   "metadata": {},
   "outputs": [],
   "source": [
    "# モデルの保存\n",
    "with open('lgbm_model.pkl', 'wb') as f:\n",
    "    pkl.dump(model, f)"
   ]
  },
  {
   "cell_type": "code",
   "execution_count": 107,
   "metadata": {},
   "outputs": [
    {
     "name": "stdout",
     "output_type": "stream",
     "text": [
      "最適パラメータ {'colsample_bytree': 0.4, 'reg_alpha': 0.0001, 'reg_lambda': 0.1, 'subsample': 0.4, 'subsample_freq': 1}\n",
      "スコア 0.8267585767585768\n",
      "所要時間10.246723890304565秒\n"
     ]
    }
   ],
   "source": [
    "# パラメーターチューニングを行う（グリッドサーチ）+公差検証(K-FOLD)\n",
    "import time\n",
    "from sklearn.model_selection import GridSearchCV\n",
    "from seaborn_analyzer import regplot\n",
    "from sklearn.model_selection import KFold\n",
    "seed = 42\n",
    "scoring = 'accuracy' \n",
    "start = time.time()\n",
    "# 最終的なパラメータ範囲（1152通り）\n",
    "params = {'reg_alpha': [0.0001, 0.003, 0.1],\n",
    "             'reg_lambda': [0.0001, 0.1],\n",
    "             'colsample_bytree': [0.3, 0.4, 0.5],\n",
    "             'subsample': [0.4, 1.0],\n",
    "             'subsample_freq': [0, 1, 2]\n",
    "             }\n",
    "cv = KFold(n_splits=3, shuffle=True, random_state=seed)\n",
    "# グリッドサーチのインスタンス作成\n",
    "gridcv = GridSearchCV(model, params, cv=cv,\n",
    "                      scoring=scoring, n_jobs=-1)\n",
    "# グリッドサーチ実行（学習実行）\n",
    "gridcv.fit(train0_X, train0_y) # train0_X, train0_yの使用\n",
    "# 最適パラメータの表示と保持\n",
    "best_params = gridcv.best_params_\n",
    "best_score = gridcv.best_score_\n",
    "print(f'最適パラメータ {best_params}\\nスコア {best_score}')\n",
    "print(f'所要時間{time.time() - start}秒') # paramsを変えて何回かやる必要がある。3～5回は[]を書き換えて試す。"
   ]
  },
  {
   "cell_type": "code",
   "execution_count": 108,
   "metadata": {},
   "outputs": [
    {
     "data": {
      "text/plain": [
       "{'colsample_bytree': 0.4,\n",
       " 'reg_alpha': 0.0001,\n",
       " 'reg_lambda': 0.1,\n",
       " 'subsample': 0.4,\n",
       " 'subsample_freq': 1}"
      ]
     },
     "execution_count": 108,
     "metadata": {},
     "output_type": "execute_result"
    }
   ],
   "source": [
    "best_params # ★lightGBMはnum_treesを[]から選んだりせずに、勝手に決めてくれた方が精度がよさそう\n",
    "# グリッドサーチはしなくてよい。Optuna(自動最適化)は気になるのでやっておく。"
   ]
  },
  {
   "cell_type": "code",
   "execution_count": 110,
   "metadata": {},
   "outputs": [
    {
     "name": "stdout",
     "output_type": "stream",
     "text": [
      "[10]\tvalid_0's binary_logloss: 0.490814\n",
      "[20]\tvalid_0's binary_logloss: 0.448135\n",
      "[30]\tvalid_0's binary_logloss: 0.433137\n",
      "[40]\tvalid_0's binary_logloss: 0.436585\n",
      "[50]\tvalid_0's binary_logloss: 0.429981\n",
      "[60]\tvalid_0's binary_logloss: 0.424795\n",
      "[70]\tvalid_0's binary_logloss: 0.421657\n",
      "[80]\tvalid_0's binary_logloss: 0.42245\n",
      "[90]\tvalid_0's binary_logloss: 0.417965\n",
      "[100]\tvalid_0's binary_logloss: 0.420144\n",
      "Accuracy(train) 0.866\n",
      "Accuracy(valid) 0.815\n"
     ]
    }
   ],
   "source": [
    "# bestパラメターで再学習\n",
    "model = LGBMClassifier(colsample_bytree=0.4,\n",
    "                       reg_alpha=0.003, reg_lambda=0.1, subsample=0.4, subsample_freq=1)\n",
    "model.fit(\n",
    "    train_X, train_y,\n",
    "    eval_set=[(valid_X, valid_y)],\n",
    "    early_stopping_rounds=50,\n",
    "    verbose=10,\n",
    "    categorical_feature=categorical_features\n",
    ")\n",
    "# 正解率の計算\n",
    "print(\"Accuracy(train) {:.3f}\".format(model.score(train_X, train_y)))\n",
    "print(\"Accuracy(valid) {:.3f}\".format(model.score(valid_X, valid_y)))"
   ]
  },
  {
   "cell_type": "code",
   "execution_count": 111,
   "metadata": {},
   "outputs": [
    {
     "data": {
      "text/plain": [
       "<AxesSubplot:>"
      ]
     },
     "execution_count": 111,
     "metadata": {},
     "output_type": "execute_result"
    },
    {
     "data": {
      "image/png": "[encoded data removed]",
      "text/plain": [
       "<Figure size 432x288 with 1 Axes>"
      ]
     },
     "metadata": {
      "needs_background": "light"
     },
     "output_type": "display_data"
    }
   ],
   "source": [
    "# 重要度\n",
    "fig = plt.figure(figsize=(6,4))\n",
    "sns.barplot(x=model.feature_importances_, y=model.feature_name_)\n",
    "# fig.savefig('titanic_feature_importance.png', bbox_inches='tight')"
   ]
  },
  {
   "cell_type": "markdown",
   "metadata": {},
   "source": [
    "# XAI 可視化により、機械学習を理解する"
   ]
  },
  {
   "cell_type": "code",
   "execution_count": 104,
   "metadata": {},
   "outputs": [
    {
     "name": "stdout",
     "output_type": "stream",
     "text": [
      "(418, 8) (418, 8)\n",
      "[-0.49470988 -0.65953759 -0.12863773 -0.08027737 -0.07017911  0.06905329\n",
      " -0.4919526   0.03390263]\n"
     ]
    }
   ],
   "source": [
    "import shap\n",
    "# 説明器の準備～SHAP値算出\n",
    "exp = shap.TreeExplainer(model)\n",
    "test_sv = exp.shap_values(test_X)\n",
    "test_sv = test_sv[1]\n",
    "# もとのデータセットと同じサイズの行列が得られる\n",
    "print(test_X.shape, test_sv.shape)\n",
    "print(sv_test[0])"
   ]
  },
  {
   "cell_type": "code",
   "execution_count": 105,
   "metadata": {},
   "outputs": [
    {
     "data": {
      "image/png": "[encoded data removed]",
      "text/plain": [
       "<Figure size 576x338.4 with 2 Axes>"
      ]
     },
     "metadata": {
      "needs_background": "light"
     },
     "output_type": "display_data"
    }
   ],
   "source": [
    "shap.summary_plot(test_sv, test_X)"
   ]
  },
  {
   "cell_type": "code",
   "execution_count": 106,
   "metadata": {
    "scrolled": true
   },
   "outputs": [
    {
     "data": {
      "image/png": "[encoded data removed]",
      "text/plain": [
       "<Figure size 576x338.4 with 1 Axes>"
      ]
     },
     "metadata": {
      "needs_background": "light"
     },
     "output_type": "display_data"
    }
   ],
   "source": [
    "shap.summary_plot(test_sv, test_X, plot_type=\"bar\") \n",
    "# 今回は上のshap-ray値を考えない場合と同じようになっている(当然違う場合もある)"
   ]
  },
  {
   "cell_type": "code",
   "execution_count": null,
   "metadata": {},
   "outputs": [],
   "source": []
  },
  {
   "cell_type": "code",
   "execution_count": null,
   "metadata": {},
   "outputs": [],
   "source": []
  }
 ],
 "metadata": {
  "kernelspec": {
   "display_name": "Python 3",
   "language": "python",
   "name": "python3"
  },
  "language_info": {
   "codemirror_mode": {
    "name": "ipython",
    "version": 3
   },
   "file_extension": ".py",
   "mimetype": "text/x-python",
   "name": "python",
   "nbconvert_exporter": "python",
   "pygments_lexer": "ipython3",
   "version": "3.8.5"
  },
  "toc-autonumbering": true,
  "toc-showmarkdowntxt": false
 },
 "nbformat": 4,
 "nbformat_minor": 4
}
